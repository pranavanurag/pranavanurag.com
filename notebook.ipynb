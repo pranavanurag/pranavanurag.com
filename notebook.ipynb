{
 "cells": [
  {
   "cell_type": "code",
   "execution_count": 2,
   "metadata": {},
   "outputs": [
    {
     "name": "stdout",
     "output_type": "stream",
     "text": [
      "aspect_ratio:0.7490755414685684\n"
     ]
    },
    {
     "name": "stderr",
     "output_type": "stream",
     "text": [
      "/var/folders/mm/rm13hkys7p18z0l6hg35ytp40000gn/T/ipykernel_40564/2367878052.py:13: DeprecationWarning: ANTIALIAS is deprecated and will be removed in Pillow 10 (2023-07-01). Use LANCZOS or Resampling.LANCZOS instead.\n",
      "  resized_image = resized_image.resize((new_width, new_height), Image.ANTIALIAS)\n"
     ]
    }
   ],
   "source": [
    "from PIL import Image\n",
    "\n",
    "def resize_image(input_file, output_file):\n",
    "    input_image = Image.open(input_file)\n",
    "    original_width, original_height = input_image.size\n",
    "    aspect_ratio = original_width / original_height\n",
    "    print(\"aspect_ratio:\" + str(aspect_ratio))\n",
    "\n",
    "    new_width = 600\n",
    "    new_height = int(new_width / aspect_ratio)\n",
    "\n",
    "    resized_image = input_image.copy()\n",
    "    resized_image = resized_image.resize((new_width, new_height), Image.ANTIALIAS)\n",
    "    resized_image.save(output_file, 'JPEG')\n",
    "\n",
    "\n",
    "photo_id = \"ratnagiri\"\n",
    "resize_image(f\"photos/{photo_id}.jpeg\", f\"photos/{photo_id}_thumb.jpeg\")\n",
    "\n",
    "\n"
   ]
  },
  {
   "cell_type": "code",
   "execution_count": null,
   "metadata": {},
   "outputs": [],
   "source": []
  }
 ],
 "metadata": {
  "kernelspec": {
   "display_name": "Python 3",
   "language": "python",
   "name": "python3"
  },
  "language_info": {
   "codemirror_mode": {
    "name": "ipython",
    "version": 3
   },
   "file_extension": ".py",
   "mimetype": "text/x-python",
   "name": "python",
   "nbconvert_exporter": "python",
   "pygments_lexer": "ipython3",
   "version": "3.8.9"
  },
  "orig_nbformat": 4
 },
 "nbformat": 4,
 "nbformat_minor": 2
}
