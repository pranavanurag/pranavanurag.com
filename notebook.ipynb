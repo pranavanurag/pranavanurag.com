{
 "cells": [
  {
   "cell_type": "code",
   "execution_count": 4,
   "metadata": {},
   "outputs": [],
   "source": [
    "from PIL import Image\n",
    "\n",
    "def create_thumbnail(photo_id):\n",
    "    resize_image(f\"photos/{photo_id}.jpeg\", f\"photos/{photo_id}_thumb.jpeg\")\n",
    "\n",
    "\n",
    "def resize_image(input_file, output_file):\n",
    "    input_image = Image.open(input_file)\n",
    "    original_width, original_height = input_image.size\n",
    "    aspect_ratio = original_width / original_height\n",
    "    print(\"aspect_ratio:\" + str(aspect_ratio))\n",
    "\n",
    "    new_width = 600\n",
    "    new_height = int(new_width / aspect_ratio)\n",
    "\n",
    "    resized_image = input_image.copy()\n",
    "    resized_image = resized_image.resize((new_width, new_height), Image.LANCZOS)\n",
    "    resized_image.save(output_file, 'JPEG')\n",
    "    "
   ]
  },
  {
   "cell_type": "code",
   "execution_count": 5,
   "metadata": {},
   "outputs": [],
   "source": [
    "import shutil\n",
    "\n",
    "def move_to_photos_dir(filepath, name):\n",
    "    shutil.copy(src=filepath, dst=f\"/Users/pranavanurag/Documents/pranavanurag.com/photos/{name}.jpeg\")\n",
    "\n",
    "\n",
    "def from_darktable_export(darktable_export_name, name):\n",
    "    move_to_photos_dir(f\"/Users/pranavanurag/Pictures/Darktable/{darktable_export_name}.jpg\", name)"
   ]
  },
  {
   "cell_type": "code",
   "execution_count": 6,
   "metadata": {},
   "outputs": [
    {
     "name": "stdout",
     "output_type": "stream",
     "text": [
      "aspect_ratio:1.49800796812749\n"
     ]
    }
   ],
   "source": [
    "create_thumbnail(\"westminster\")"
   ]
  },
  {
   "cell_type": "code",
   "execution_count": 7,
   "metadata": {},
   "outputs": [],
   "source": [
    "import json\n",
    "\n",
    "def update_meta_json(name, description):\n",
    "    meta_file = 'photos_meta.json'\n",
    "    with open(meta_file, 'r') as f:\n",
    "        data = json.load(f)\n",
    "\n",
    "    data[name] = description\n",
    "\n",
    "    with open(meta_file, 'w') as f:\n",
    "        json.dump(data, f, indent='\\t')\n",
    "\n",
    "\n"
   ]
  },
  {
   "cell_type": "code",
   "execution_count": 8,
   "metadata": {},
   "outputs": [],
   "source": [
    "update_meta_json(\"westminster\", \"Sunset view of the Big Ben, Westminster Palace and Westminster Abbey from the London Eye\")"
   ]
  },
  {
   "cell_type": "code",
   "execution_count": null,
   "metadata": {},
   "outputs": [],
   "source": []
  }
 ],
 "metadata": {
  "kernelspec": {
   "display_name": "Python 3",
   "language": "python",
   "name": "python3"
  },
  "language_info": {
   "codemirror_mode": {
    "name": "ipython",
    "version": 3
   },
   "file_extension": ".py",
   "mimetype": "text/x-python",
   "name": "python",
   "nbconvert_exporter": "python",
   "pygments_lexer": "ipython3",
   "version": "3.8.9"
  },
  "orig_nbformat": 4
 },
 "nbformat": 4,
 "nbformat_minor": 2
}
